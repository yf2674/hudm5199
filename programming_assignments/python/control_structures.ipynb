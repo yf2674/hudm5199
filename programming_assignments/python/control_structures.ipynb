{
 "cells": [
  {
   "cell_type": "markdown",
   "metadata": {
    "tags": []
   },
   "source": [
    "## Control Structures\n",
    "\n",
    "\n",
    "### Programming for Data Science\n",
    "### Last Updated: Oct 16, 2023\n",
    "---"
   ]
  },
  {
   "cell_type": "markdown",
   "metadata": {},
   "source": [
    "### Instructions\n",
    "\n",
    "Show your code and solutions clearly in the cells following each question.   \n",
    "When the file is completed, submit the notebook through Canvas.\n",
    "\n",
    "\n",
    "### TOTAL POINTS: 10\n",
    "---\n"
   ]
  },
  {
   "cell_type": "markdown",
   "metadata": {},
   "source": [
    "1) **(1 PT)** Write a Python program that prompts the user to enter a number and checks if it's positive, negative, or zero,  using an if-else statement. To obtain user input, use the following code."
   ]
  },
  {
   "cell_type": "code",
   "execution_count": null,
   "metadata": {},
   "outputs": [],
   "source": [
    "number = int(input(\"Enter a number: \"))"
   ]
  },
  {
   "cell_type": "code",
   "execution_count": null,
   "metadata": {},
   "outputs": [],
   "source": []
  },
  {
   "cell_type": "markdown",
   "metadata": {},
   "source": [
    "2) **(1 PT)** Create a list of numbers, and write a Python program that prints all the numbers in the list that are divisible by 7 using a for-loop."
   ]
  },
  {
   "cell_type": "code",
   "execution_count": null,
   "metadata": {},
   "outputs": [],
   "source": []
  },
  {
   "cell_type": "markdown",
   "metadata": {},
   "source": [
    "3) **(1 PT)**  Write a Python program that calculates and prints the sum of all the numbers from 1 to 100 that  are divisible by both 3 and 5 using a for-loop."
   ]
  },
  {
   "cell_type": "code",
   "execution_count": null,
   "metadata": {},
   "outputs": [],
   "source": []
  },
  {
   "cell_type": "markdown",
   "metadata": {},
   "source": [
    "4) **(1 PT)** Repeat Q3, but now using a while loop."
   ]
  },
  {
   "cell_type": "code",
   "execution_count": null,
   "metadata": {},
   "outputs": [],
   "source": []
  },
  {
   "cell_type": "markdown",
   "metadata": {},
   "source": [
    "5) **(1 PT)**  Use the below dictionary that includes the names of students as keys and their respective test scores as values.  Write a Python program to find and print the names of students who have failed (scores below 70) using a for-loop. "
   ]
  },
  {
   "cell_type": "code",
   "execution_count": null,
   "metadata": {},
   "outputs": [],
   "source": [
    "student_scores = {\"Jin\": 40, \"Alice\": 75, \"Bob\": 90, \"Charlie\": 45, \"David\": 62, \"Tyler\": 30}"
   ]
  },
  {
   "cell_type": "code",
   "execution_count": null,
   "metadata": {},
   "outputs": [],
   "source": []
  },
  {
   "cell_type": "markdown",
   "metadata": {},
   "source": [
    "6) **(1 PT)** Write a Python program that counts and prints the number of strings that contain the letter 'a' using a for-loop. Use the following list of strings."
   ]
  },
  {
   "cell_type": "code",
   "execution_count": null,
   "metadata": {},
   "outputs": [],
   "source": [
    "strings = [\"melon\", \"orange\", \"banana\", \"cherry\", \"date\"]"
   ]
  },
  {
   "cell_type": "code",
   "execution_count": null,
   "metadata": {},
   "outputs": [],
   "source": []
  },
  {
   "cell_type": "markdown",
   "metadata": {},
   "source": [
    "7) **(2 PT)**  Use the below list of dictionaries representing students with their names and scores.  Write a Python program that calculates and prints the average score of all students, using a for-loop. \n",
    "\n",
    "*(Hint)* Use a for-loop to access each student's score, and then compute the average score of all students outside the for-loop. "
   ]
  },
  {
   "cell_type": "code",
   "execution_count": null,
   "metadata": {},
   "outputs": [],
   "source": [
    "students = [\n",
    "    {\"first_name\": \"Sora\", \"test_score\": 85},\n",
    "    {\"first_name\": \"Bob\", \"test_score\": 55},\n",
    "    {\"first_name\": \"Bryan\", \"test_score\": 78},\n",
    "    {\"first_name\": \"Larry\", \"test_score\": 58},\n",
    "    {\"first_name\": \"James\", \"test_score\": 48}\n",
    "]"
   ]
  },
  {
   "cell_type": "code",
   "execution_count": null,
   "metadata": {},
   "outputs": [],
   "source": []
  },
  {
   "cell_type": "markdown",
   "metadata": {},
   "source": [
    "8) **(2 PT)**  Print the numbers from 1 to 100 with these modifications using a for-loop.\n",
    "\n",
    " - If the number is divisible by 3, print Wahoo instead of the number\n",
    " - If the number is divisible by 5, print wah! instead of the number\n",
    " - If the number is divisible by 3 and 5 both, print Wahoowah! instead of the number"
   ]
  },
  {
   "cell_type": "code",
   "execution_count": null,
   "metadata": {},
   "outputs": [],
   "source": []
  },
  {
   "cell_type": "markdown",
   "metadata": {},
   "source": [
    "---"
   ]
  }
 ],
 "metadata": {
  "kernelspec": {
   "display_name": "Python 3 (ipykernel)",
   "language": "python",
   "name": "python3"
  },
  "language_info": {
   "codemirror_mode": {
    "name": "ipython",
    "version": 3
   },
   "file_extension": ".py",
   "mimetype": "text/x-python",
   "name": "python",
   "nbconvert_exporter": "python",
   "pygments_lexer": "ipython3",
   "version": "3.9.12"
  }
 },
 "nbformat": 4,
 "nbformat_minor": 4
}
